{
  "nbformat": 4,
  "nbformat_minor": 0,
  "metadata": {
    "colab": {
      "provenance": [],
      "authorship_tag": "ABX9TyNZuqMfbCE9lZ3Yr0RfWt8X",
      "include_colab_link": true
    },
    "kernelspec": {
      "name": "python3",
      "display_name": "Python 3"
    },
    "language_info": {
      "name": "python"
    }
  },
  "cells": [
    {
      "cell_type": "markdown",
      "metadata": {
        "id": "view-in-github",
        "colab_type": "text"
      },
      "source": [
        "<a href=\"https://colab.research.google.com/github/manojkumarshenu/Prodigy_TrackCode_TaskNumber/blob/main/image_identification_Dog_v_s_cats_svm(tastk3).ipynb\" target=\"_parent\"><img src=\"https://colab.research.google.com/assets/colab-badge.svg\" alt=\"Open In Colab\"/></a>"
      ]
    },
    {
      "cell_type": "code",
      "execution_count": null,
      "metadata": {
        "id": "uNDIJPZ4z_0P"
      },
      "outputs": [],
      "source": []
    },
    {
      "source": [
        "# IMPORTANT: RUN THIS CELL IN ORDER TO IMPORT YOUR KAGGLE DATA SOURCES\n",
        "# TO THE CORRECT LOCATION (/kaggle/input) IN YOUR NOTEBOOK,\n",
        "# THEN FEEL FREE TO DELETE THIS CELL.\n",
        "# NOTE: THIS NOTEBOOK ENVIRONMENT DIFFERS FROM KAGGLE'S PYTHON\n",
        "# ENVIRONMENT SO THERE MAY BE MISSING LIBRARIES USED BY YOUR\n",
        "# NOTEBOOK.\n",
        "\n",
        "import os\n",
        "import sys\n",
        "from tempfile import NamedTemporaryFile\n",
        "from urllib.request import urlopen\n",
        "from urllib.parse import unquote, urlparse\n",
        "from urllib.error import HTTPError\n",
        "from zipfile import ZipFile\n",
        "import tarfile\n",
        "import shutil\n",
        "\n",
        "CHUNK_SIZE = 40960\n",
        "DATA_SOURCE_MAPPING = 'dogs-vs-cats:https%3A%2F%2Fstorage.googleapis.com%2Fkaggle-competitions-data%2Fkaggle-v2%2F3362%2F31148%2Fbundle%2Farchive.zip%3FX-Goog-Algorithm%3DGOOG4-RSA-SHA256%26X-Goog-Credential%3Dgcp-kaggle-com%2540kaggle-161607.iam.gserviceaccount.com%252F20240615%252Fauto%252Fstorage%252Fgoog4_request%26X-Goog-Date%3D20240615T162905Z%26X-Goog-Expires%3D259200%26X-Goog-SignedHeaders%3Dhost%26X-Goog-Signature%3D52a203056e35c9d08e759f4832b4c68c4477322f357b7c8a60e3c94d8bf8a4ab2241d844eec0a043f5beb6dd82e560374cd6271b542ef95045a7a563f4c2ee3d77c74148258c1d93cd1d1996c2fa95f18ef1aae662cdfc27e08b310e52650aa3faa88c4f158507e7c575f36a88f78f6e8f7395e5c5a33d7e700c1dda6588f8b4b3f6cd340c5b11f54317f4237c213c23c62c08d9340338a34143fa89dfe9e0e2739738db1e14ec55fef1f383f825001867fbd3b5f4677203bc635e5903caa82b920cef2cfa445ae2d5600d12c42cb397a44347d38109042d36747c92a686668b3473c91a2006474379d7ba34c6f64d9a3087931ceae2c90172a3e8a8913407cc'\n",
        "\n",
        "KAGGLE_INPUT_PATH='/kaggle/input'\n",
        "KAGGLE_WORKING_PATH='/kaggle/working'\n",
        "KAGGLE_SYMLINK='kaggle'\n",
        "\n",
        "!umount /kaggle/input/ 2> /dev/null\n",
        "shutil.rmtree('/kaggle/input', ignore_errors=True)\n",
        "os.makedirs(KAGGLE_INPUT_PATH, 0o777, exist_ok=True)\n",
        "os.makedirs(KAGGLE_WORKING_PATH, 0o777, exist_ok=True)\n",
        "\n",
        "try:\n",
        "  os.symlink(KAGGLE_INPUT_PATH, os.path.join(\"..\", 'input'), target_is_directory=True)\n",
        "except FileExistsError:\n",
        "  pass\n",
        "try:\n",
        "  os.symlink(KAGGLE_WORKING_PATH, os.path.join(\"..\", 'working'), target_is_directory=True)\n",
        "except FileExistsError:\n",
        "  pass\n",
        "\n",
        "for data_source_mapping in DATA_SOURCE_MAPPING.split(','):\n",
        "    directory, download_url_encoded = data_source_mapping.split(':')\n",
        "    download_url = unquote(download_url_encoded)\n",
        "    filename = urlparse(download_url).path\n",
        "    destination_path = os.path.join(KAGGLE_INPUT_PATH, directory)\n",
        "    try:\n",
        "        with urlopen(download_url) as fileres, NamedTemporaryFile() as tfile:\n",
        "            total_length = fileres.headers['content-length']\n",
        "            print(f'Downloading {directory}, {total_length} bytes compressed')\n",
        "            dl = 0\n",
        "            data = fileres.read(CHUNK_SIZE)\n",
        "            while len(data) > 0:\n",
        "                dl += len(data)\n",
        "                tfile.write(data)\n",
        "                done = int(50 * dl / int(total_length))\n",
        "                sys.stdout.write(f\"\\r[{'=' * done}{' ' * (50-done)}] {dl} bytes downloaded\")\n",
        "                sys.stdout.flush()\n",
        "                data = fileres.read(CHUNK_SIZE)\n",
        "            if filename.endswith('.zip'):\n",
        "              with ZipFile(tfile) as zfile:\n",
        "                zfile.extractall(destination_path)\n",
        "            else:\n",
        "              with tarfile.open(tfile.name) as tarfile:\n",
        "                tarfile.extractall(destination_path)\n",
        "            print(f'\\nDownloaded and uncompressed: {directory}')\n",
        "    except HTTPError as e:\n",
        "        print(f'Failed to load (likely expired) {download_url} to path {destination_path}')\n",
        "        continue\n",
        "    except OSError as e:\n",
        "        print(f'Failed to load {download_url} to path {destination_path}')\n",
        "        continue\n",
        "\n",
        "print('Data source import complete.')\n"
      ],
      "metadata": {
        "id": "xw0R9E0OuzfS",
        "outputId": "e696a68a-66ce-4d50-c139-97012c60e8ce",
        "colab": {
          "base_uri": "https://localhost:8080/"
        }
      },
      "cell_type": "code",
      "outputs": [
        {
          "output_type": "stream",
          "name": "stdout",
          "text": [
            "Downloading dogs-vs-cats, 851576689 bytes compressed\n",
            "[==================================================] 851576689 bytes downloaded\n",
            "Downloaded and uncompressed: dogs-vs-cats\n",
            "Data source import complete.\n"
          ]
        }
      ],
      "execution_count": null
    },
    {
      "cell_type": "code",
      "source": [
        "# This Python 3 environment comes with many helpful analytics libraries installed\n",
        "# It is defined by the kaggle/python Docker image: https://github.com/kaggle/docker-python\n",
        "# For example, here's several helpful packages to load\n",
        "\n",
        "import numpy as np # linear algebra\n",
        "import pandas as pd # data processing, CSV file I/O (e.g. pd.read_csv)\n",
        "\n",
        "# Input data files are available in the read-only \"../input/\" directory\n",
        "# For example, running this (by clicking run or pressing Shift+Enter) will list all files under the input directory\n",
        "\n",
        "import os\n",
        "for dirname, _, filenames in os.walk('/kaggle/input'):\n",
        "    for filename in filenames:\n",
        "        print(os.path.join(dirname, filename))\n",
        "\n",
        "# You can write up to 20GB to the current directory (/kaggle/working/) that gets preserved as output when you create a version using \"Save & Run All\"\n",
        "# You can also write temporary files to /kaggle/temp/, but they won't be saved outside of the current session"
      ],
      "metadata": {
        "_uuid": "8f2839f25d086af736a60e9eeb907d3b93b6e0e5",
        "_cell_guid": "b1076dfc-b9ad-4769-8c92-a6c4dae69d19",
        "trusted": true,
        "id": "RRR-qsMbuzfg",
        "outputId": "c7810dfd-ccf3-4ae2-b6da-626c4ff82dab",
        "colab": {
          "base_uri": "https://localhost:8080/"
        }
      },
      "execution_count": null,
      "outputs": [
        {
          "output_type": "stream",
          "name": "stdout",
          "text": [
            "/kaggle/input/dogs-vs-cats/sampleSubmission.csv\n",
            "/kaggle/input/dogs-vs-cats/test1.zip\n",
            "/kaggle/input/dogs-vs-cats/train.zip\n"
          ]
        }
      ]
    },
    {
      "cell_type": "code",
      "source": [
        "import zipfile\n",
        "import os\n",
        "\n",
        "# Define paths to the zip files\n",
        "train_zip_path = '/kaggle/input/dogs-vs-cats/train.zip'\n",
        "test_zip_path = '/kaggle/input/dogs-vs-cats/test1.zip'\n",
        "\n",
        "# Create directories to extract files\n",
        "os.makedirs('/kaggle/working/train', exist_ok=True)\n",
        "os.makedirs('/kaggle/working/test1', exist_ok=True)\n",
        "\n",
        "# Extract train dataset\n",
        "with zipfile.ZipFile(train_zip_path, 'r') as zip_ref:\n",
        "    zip_ref.extractall('/kaggle/working/train')\n",
        "\n",
        "# Extract test dataset\n",
        "with zipfile.ZipFile(test_zip_path, 'r') as zip_ref:\n",
        "    zip_ref.extractall('/kaggle/working/test1')\n"
      ],
      "metadata": {
        "execution": {
          "iopub.status.busy": "2024-06-15T16:04:48.646514Z",
          "iopub.execute_input": "2024-06-15T16:04:48.647823Z",
          "iopub.status.idle": "2024-06-15T16:05:05.011627Z",
          "shell.execute_reply.started": "2024-06-15T16:04:48.647773Z",
          "shell.execute_reply": "2024-06-15T16:05:05.010644Z"
        },
        "trusted": true,
        "id": "0DS1L5wQuzfi"
      },
      "execution_count": null,
      "outputs": []
    },
    {
      "cell_type": "code",
      "source": [
        "import numpy as np\n",
        "import pandas as pd\n",
        "import cv2\n",
        "from sklearn.model_selection import train_test_split\n",
        "from sklearn.svm import SVC\n",
        "from sklearn.metrics import accuracy_score\n"
      ],
      "metadata": {
        "execution": {
          "iopub.status.busy": "2024-06-15T16:05:34.952933Z",
          "iopub.execute_input": "2024-06-15T16:05:34.953874Z",
          "iopub.status.idle": "2024-06-15T16:05:35.948993Z",
          "shell.execute_reply.started": "2024-06-15T16:05:34.953836Z",
          "shell.execute_reply": "2024-06-15T16:05:35.947914Z"
        },
        "trusted": true,
        "id": "pld6UWviuzfj"
      },
      "execution_count": null,
      "outputs": []
    },
    {
      "cell_type": "code",
      "source": [
        "path = '/kaggle/working/train/train/'  # The path to the training dataset\n",
        "images = []\n",
        "labels = []\n",
        "\n",
        "for img in os.listdir(path):\n",
        "    img_path = os.path.join(path, img)\n",
        "    image = cv2.imread(img_path)\n",
        "    image = cv2.resize(image, (64, 64))\n",
        "    images.append(image)\n",
        "\n",
        "    if 'cat' in img:\n",
        "        labels.append(0)\n",
        "    else:\n",
        "        labels.append(1)\n",
        "\n",
        "images = np.array(images)\n",
        "labels = np.array(labels)\n"
      ],
      "metadata": {
        "execution": {
          "iopub.status.busy": "2024-06-15T16:05:51.827739Z",
          "iopub.execute_input": "2024-06-15T16:05:51.82817Z",
          "iopub.status.idle": "2024-06-15T16:06:15.86716Z",
          "shell.execute_reply.started": "2024-06-15T16:05:51.828136Z",
          "shell.execute_reply": "2024-06-15T16:06:15.866102Z"
        },
        "trusted": true,
        "id": "FnBCrP7Juzfk"
      },
      "execution_count": null,
      "outputs": []
    },
    {
      "cell_type": "code",
      "source": [
        "print(images.shape)\n",
        "print(labels.shape)"
      ],
      "metadata": {
        "colab": {
          "base_uri": "https://localhost:8080/"
        },
        "id": "H0Vq9J2S2ObJ",
        "outputId": "b5aef0e4-4588-4c76-f371-b95d6c397861"
      },
      "execution_count": null,
      "outputs": [
        {
          "output_type": "stream",
          "name": "stdout",
          "text": [
            "(25000, 12288)\n",
            "(25000,)\n"
          ]
        }
      ]
    },
    {
      "cell_type": "code",
      "source": [
        "images = images / 255.0  # Normalize images\n",
        "images = images.reshape(images.shape[0], -1)  # Flatten images\n",
        "\n",
        "X_train, X_test, y_train, y_test = train_test_split(images, labels, test_size=0.2, random_state=42)\n"
      ],
      "metadata": {
        "id": "LiM4H1Xuuzfl"
      },
      "execution_count": null,
      "outputs": []
    },
    {
      "cell_type": "code",
      "source": [
        "svm = SVC(kernel='linear')\n",
        "svm.fit(X_train, y_train)"
      ],
      "metadata": {
        "id": "D_H_XE8V4Fa3"
      },
      "execution_count": null,
      "outputs": []
    },
    {
      "cell_type": "code",
      "source": [
        "y_pred = svm.predict(X_test)\n",
        "accuracy = accuracy_score(y_test, y_pred)\n",
        "print(f'Accuracy: {accuracy}')"
      ],
      "metadata": {
        "id": "gtSofy3guzfp"
      },
      "execution_count": null,
      "outputs": []
    }
  ]
}